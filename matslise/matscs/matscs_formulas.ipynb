{
 "cells": [
  {
   "cell_type": "code",
   "execution_count": 2,
   "metadata": {
    "execution": {
     "iopub.execute_input": "2020-12-08T11:53:27.761902Z",
     "iopub.status.busy": "2020-12-08T11:53:27.761422Z",
     "iopub.status.idle": "2020-12-08T11:53:27.942654Z",
     "shell.execute_reply": "2020-12-08T11:53:27.940201Z",
     "shell.execute_reply.started": "2020-12-08T11:53:27.761764Z"
    }
   },
   "outputs": [],
   "source": [
    "PV = FreeAlgebra(QQ, ['v%d'%i for i in range(20)])\n",
    "Ph = PolynomialRing(PV, 'h')\n",
    "Pd = PolynomialRing(Ph, 'd')\n",
    "d = Pd.gen()\n",
    "h = Pd(Ph.gen())\n",
    "zero = Pd.zero()\n",
    "V = map(Pd, PV.gens())\n",
    "\n",
    "def shifted_legendre(n):\n",
    "    _d = SR.var('_d')\n",
    "    _h = SR.var('_h')\n",
    "    poly = (maxima.legendre_p(n,2*_d/_h-1).sage()*_h**n).expand()\n",
    "    return sum(sum(QQ(ch)*h**j for ch, j in cd.coefficients())*d**i for cd, i in poly.coefficients())\n",
    "\n",
    "def filter_high_degree(expr, n, depth=2):\n",
    "    if depth == 0:\n",
    "        return expr\n",
    "    s = parent(expr).zero()\n",
    "    v = d if depth == 2 else h\n",
    "    for i, coef in enumerate(expr):\n",
    "        if i > n:\n",
    "            break\n",
    "        s += filter_high_degree(coef, n-i, depth-1)*v**i\n",
    "    return s"
   ]
  },
  {
   "cell_type": "code",
   "execution_count": 3,
   "metadata": {
    "execution": {
     "iopub.execute_input": "2020-12-08T11:53:28.111092Z",
     "iopub.status.busy": "2020-12-08T11:53:28.109527Z",
     "iopub.status.idle": "2020-12-08T11:53:28.147510Z",
     "shell.execute_reply": "2020-12-08T11:53:28.144062Z",
     "shell.execute_reply.started": "2020-12-08T11:53:28.110573Z"
    }
   },
   "outputs": [],
   "source": [
    "def integrate_poly(poly):\n",
    "    P = parent(poly)\n",
    "    g = P.gen()\n",
    "    return P(sum(c*g**(i+1)*P(1/(i+1)) for i, c in enumerate(list(poly))))\n",
    "\n",
    "def diff_poly(poly):\n",
    "    P = parent(poly)\n",
    "    g = P.gen()\n",
    "    return P(sum(c*P(i)*g**(i-1) for i, c in enumerate(list(poly)) if i > 0))\n",
    "\n",
    "def shift_poly(poly, n):\n",
    "    P = parent(poly)\n",
    "    g = P.gen()\n",
    "    return P(sum(c*g**(i-n) for i, c in enumerate(list(poly)) if i >= n))"
   ]
  },
  {
   "cell_type": "code",
   "execution_count": 4,
   "metadata": {
    "execution": {
     "iopub.execute_input": "2020-12-08T11:53:28.459399Z",
     "iopub.status.busy": "2020-12-08T11:53:28.457895Z",
     "iopub.status.idle": "2020-12-08T11:53:28.496305Z",
     "shell.execute_reply": "2020-12-08T11:53:28.493639Z",
     "shell.execute_reply.started": "2020-12-08T11:53:28.458939Z"
    }
   },
   "outputs": [],
   "source": [
    "def calculateEta(hmax, n):\n",
    "\n",
    "    numIt = (2*n)//3+1\n",
    "    dV = sum(shifted_legendre(i)*V[i] for i in range(1, n+1))\n",
    "    print dV\n",
    "\n",
    "    def calcC(Q, R0):\n",
    "        C = [[filter_high_degree(integrate_poly(Pd(Q)*Pd(1/2)), hmax)]]\n",
    "        R0 = Pd(R0)\n",
    "        for q in range(numIt):\n",
    "            if q > 0:\n",
    "                C.append([zero])\n",
    "            for m in range(0, hmax//2+1):\n",
    "                if q == 0:\n",
    "                    R = R0 if m == 0 else zero\n",
    "                else:\n",
    "                    R = filter_high_degree(dV*C[q-1][m], hmax-2*m-1)\n",
    "                \n",
    "                C[q].append(shift_poly(\n",
    "                    integrate_poly(d**m * (\n",
    "                        R - diff_poly(diff_poly(C[q][m])) - filter_high_degree(C[q][m]*V[0] - V[0]*C[q][m], hmax-2*m-1)\n",
    "                    )*Pd(1/2)), m+1))\n",
    "        return C\n",
    "\n",
    "    Cu = calcC(dV, zero)\n",
    "    Cv = calcC(zero, dV)\n",
    "\n",
    "    eta_u = [zero for _ in range(hmax//2+2)]\n",
    "    eta_up = eta_u[:]\n",
    "    eta_v = eta_u[:]\n",
    "    eta_vp = eta_u[:]\n",
    "\n",
    "    eta_u[0] = Pd.one()\n",
    "    eta_up[0] = zero\n",
    "    eta_v[1] = d\n",
    "    eta_vp[0] = Pd.one()\n",
    "\n",
    "    for i in range(numIt):\n",
    "        for k in range(hmax//2+1):\n",
    "            eta_u[k+1] += filter_high_degree(Cu[i][k] * d**(2*k+1), hmax)\n",
    "            eta_v[k+1] += filter_high_degree(Cv[i][k] * d**(2*k+1), hmax)\n",
    "        eta_up[0] += Cu[i][0]\n",
    "        eta_vp[0] += Cv[i][0]\n",
    "        for k in range(hmax//2):\n",
    "            eta_up[k+1] += filter_high_degree((diff_poly(Cu[i][k]) + d*Cu[i][k+1]) * d**(2*k+1), hmax)\n",
    "            eta_vp[k+1] += filter_high_degree((diff_poly(Cv[i][k]) + d*Cv[i][k+1]) * d**(2*k+1), hmax)\n",
    "\n",
    "    return [eta_u, eta_v, eta_up, eta_vp]"
   ]
  },
  {
   "cell_type": "code",
   "execution_count": 5,
   "metadata": {
    "execution": {
     "iopub.execute_input": "2020-12-08T11:53:28.984964Z",
     "iopub.status.busy": "2020-12-08T11:53:28.983758Z",
     "iopub.status.idle": "2020-12-08T11:53:34.857939Z",
     "shell.execute_reply": "2020-12-08T11:53:34.855284Z",
     "shell.execute_reply.started": "2020-12-08T11:53:28.984768Z"
    }
   },
   "outputs": [
    {
     "name": "stdout",
     "output_type": "stream",
     "text": [
      "3432*v7*d^7 + (-12012*v7*h + 924*v6)*d^6 + (16632*v7*h^2 - 2772*v6*h + 252*v5)*d^5 + (-11550*v7*h^3 + 3150*v6*h^2 - 630*v5*h + 70*v4)*d^4 + (4200*v7*h^4 - 1680*v6*h^3 + 560*v5*h^2 - 140*v4*h + 20*v3)*d^3 + (-756*v7*h^5 + 420*v6*h^4 - 210*v5*h^3 + 90*v4*h^2 - 30*v3*h + 6*v2)*d^2 + (56*v7*h^6 - 42*v6*h^5 + 30*v5*h^4 - 20*v4*h^3 + 12*v3*h^2 - 6*v2*h + 2*v1)*d - v7*h^7 + v6*h^6 - v5*h^5 + v4*h^4 - v3*h^3 + v2*h^2 - v1*h\n",
      "calculated eta delta\n"
     ]
    }
   ],
   "source": [
    "dhmax = 9\n",
    "dn = 7\n",
    "hhmax = 10\n",
    "hn = 8\n",
    "\n",
    "de = calculateEta(dhmax, dn)\n",
    "print \"calculated eta delta\""
   ]
  },
  {
   "cell_type": "code",
   "execution_count": 6,
   "metadata": {
    "execution": {
     "iopub.execute_input": "2020-12-08T11:53:34.862484Z",
     "iopub.status.busy": "2020-12-08T11:53:34.862211Z",
     "iopub.status.idle": "2020-12-08T11:53:47.795290Z",
     "shell.execute_reply": "2020-12-08T11:53:47.792778Z",
     "shell.execute_reply.started": "2020-12-08T11:53:34.862430Z"
    }
   },
   "outputs": [
    {
     "name": "stdout",
     "output_type": "stream",
     "text": [
      "12870*v8*d^8 + (-51480*v8*h + 3432*v7)*d^7 + (84084*v8*h^2 - 12012*v7*h + 924*v6)*d^6 + (-72072*v8*h^3 + 16632*v7*h^2 - 2772*v6*h + 252*v5)*d^5 + (34650*v8*h^4 - 11550*v7*h^3 + 3150*v6*h^2 - 630*v5*h + 70*v4)*d^4 + (-9240*v8*h^5 + 4200*v7*h^4 - 1680*v6*h^3 + 560*v5*h^2 - 140*v4*h + 20*v3)*d^3 + (1260*v8*h^6 - 756*v7*h^5 + 420*v6*h^4 - 210*v5*h^3 + 90*v4*h^2 - 30*v3*h + 6*v2)*d^2 + (-72*v8*h^7 + 56*v7*h^6 - 42*v6*h^5 + 30*v5*h^4 - 20*v4*h^3 + 12*v3*h^2 - 6*v2*h + 2*v1)*d + v8*h^8 - v7*h^7 + v6*h^6 - v5*h^5 + v4*h^4 - v3*h^3 + v2*h^2 - v1*h\n",
      "calculated eta h\n"
     ]
    }
   ],
   "source": [
    "# 2 minuten\n",
    "he = calculateEta(hhmax, hn)\n",
    "print \"calculated eta h\""
   ]
  },
  {
   "cell_type": "code",
   "execution_count": 7,
   "metadata": {
    "execution": {
     "iopub.execute_input": "2020-12-08T11:53:47.800632Z",
     "iopub.status.busy": "2020-12-08T11:53:47.800178Z",
     "iopub.status.idle": "2020-12-08T11:53:48.135803Z",
     "shell.execute_reply": "2020-12-08T11:53:48.133155Z",
     "shell.execute_reply.started": "2020-12-08T11:53:47.800513Z"
    }
   },
   "outputs": [],
   "source": [
    "header = \"\"\"\\\n",
    "#include \"./matscs_formulas.h\"\n",
    "\n",
    "// The linker doesn't like this function at all\n",
    "// #pragma GCC optimize (\"O2\")\n",
    "\n",
    "template<typename Scalar>\n",
    "void calculate_tcoeff_matrix(\n",
    "        int n,\n",
    "        Scalar h,\n",
    "        const std::array<Eigen::Matrix<Scalar, -1, -1>, MATSCS_N> &vs,\n",
    "        Eigen::Array<Eigen::Matrix<Scalar, -1, -1>, MATSCS_ETA_delta, MATSCS_HMAX_delta> &tDelta,\n",
    "        std::array<Eigen::Matrix<Scalar, -1, -1>, MATSCS_ETA_h> &tH) {\n",
    "        typedef Eigen::Matrix<Scalar, -1, -1> MatrixXs;\n",
    "\"\"\"\n",
    "\n",
    "for i in range(0, max(hn, dn)+1):\n",
    "    header += \"    const MatrixXs &v%d = vs[%d];\\n\"%(i, i)\n",
    "\n",
    "header += \"    const Scalar &h1 = h;\\n\"\n",
    "for i in range(2, max(hhmax, dhmax)+1):\n",
    "    header += \"    const Scalar h%d = h*h%d;\\n\"%(i, i-1)\n",
    "\n",
    "footer = \"\"\"\\\n",
    "};\n",
    "\n",
    "#define INSTANTIATE_MORE(Scalar) \\\\\n",
    "template void calculate_tcoeff_matrix<Scalar>(int, Scalar h, const std::array<Eigen::Matrix<Scalar, -1, -1>, MATSCS_N> &, Eigen::Array<Eigen::Matrix<Scalar, -1, -1>, MATSCS_ETA_delta, MATSCS_HMAX_delta> &, std::array<Eigen::Matrix<Scalar, -1, -1>, MATSCS_ETA_h> &);\n",
    "\n",
    "#include \"instantiate.h\"\n",
    "\"\"\"\n",
    "    \n",
    "body = \"\"\n",
    "\n",
    "def expr_to_C(expr, depth=2, lhs=None):\n",
    "    if depth == 0:\n",
    "        return str(float(expr.n()))\n",
    "        return '(D('+str(expr.numerator())+'L)/D('+str(expr.denominator())+'L))'\n",
    "    if depth == 1:\n",
    "        vs = PV.gens()\n",
    "        r = []\n",
    "        for k, v in dict(expr).items():\n",
    "            if k == PV(1):\n",
    "                if v == 1:\n",
    "                    r.append('MatrixXs::Identity(n, n)')\n",
    "                else:\n",
    "                    r.append(expr_to_C(v, depth-1) + ' * MatrixXs::Identity(n, n)')\n",
    "            else:\n",
    "                r.append(expr_to_C(v, depth-1) + \"\".join(\n",
    "                    ('*' + str(gen))*m for gen, m in list(k) if m > 0\n",
    "                ))\n",
    "        if len(r) == 0:\n",
    "            return 'MatrixXs::Zero(n,n)'\n",
    "        return '+'.join(r)\n",
    "\n",
    "    r = list(expr)\n",
    "    if lhs:\n",
    "        if len(r) == 0:\n",
    "            return '    ' + lhs + ' = MatrixXs::Zero(n,n);\\n'\n",
    "        elif len(r) == 1:\n",
    "            return '    ' + lhs + ' = ' + expr_to_C(r[0], depth-1)+';\\n'\n",
    "        else:\n",
    "            l = \"\"\n",
    "            first = True\n",
    "            for i, v in enumerate(r):\n",
    "                if v != 0:\n",
    "                    l += '    ' + lhs+(\" = \" if first else \" += \")+('h%d * '%i if i > 0 else '') + \"(\" + expr_to_C(v, depth-1) + \");\\n\"\n",
    "                    first = False;\n",
    "            return l\n",
    "        \n",
    "    else:\n",
    "        if len(r) == 0:\n",
    "            return 'MatrixXs::Zero(n,n)'\n",
    "        elif len(r) == 1:\n",
    "            return expr_to_C(r[0], depth-1)\n",
    "        else:\n",
    "            l = []\n",
    "            for i, v in enumerate(r):\n",
    "                if v != 0:\n",
    "                    l.append(('h%d * '%i if i > 0 else '') + \"(\" + expr_to_C(v, depth-1) + \")\")\n",
    "            return ' + '.join(l)\n",
    "\n",
    "for j in range(1+hhmax//2):\n",
    "    if j <= dhmax/2:\n",
    "        exprs = [filter_high_degree(de[k][j], dhmax) for k in range(4)]\n",
    "        for i in range(dhmax+1):\n",
    "            if all(e[i] == Pd(0) for e in exprs):\n",
    "                body += \"    tDelta(%d, %d) = MatrixXs::Zero(2*n, 2*n);\\n\"%(j, i)\n",
    "            else:\n",
    "                body += \"    tDelta(%d, %d).resize(2*n, 2*n);\\n\"%(j, i)\n",
    "                for e, key in zip(exprs, [\"0, 0\", \"0, n\", \"n, 0\", \"n, n\"]):\n",
    "                    body += \"    tDelta(%d, %d).block(%s, n, n) = %s;\\n\"%(j, i, key, expr_to_C(e[i]))\n",
    "    h_exprs = [filter_high_degree(he[k][j], hhmax) for k in range(4)]\n",
    "    body += \"    tH[%d].resize(2*n, 2*n);\\n\"%(j)\n",
    "    for e, key in zip(h_exprs, [\"0, 0\", \"0, n\", \"n, 0\", \"n, n\"]):\n",
    "        body += expr_to_C(Ph(e(h)), lhs=\"tH[%d].block(%s, n, n)\"%(j,key))\n",
    "        "
   ]
  },
  {
   "cell_type": "code",
   "execution_count": 8,
   "metadata": {
    "execution": {
     "iopub.execute_input": "2020-12-08T11:53:48.140429Z",
     "iopub.status.busy": "2020-12-08T11:53:48.140069Z",
     "iopub.status.idle": "2020-12-08T11:53:48.406034Z",
     "shell.execute_reply": "2020-12-08T11:53:48.403492Z",
     "shell.execute_reply.started": "2020-12-08T11:53:48.140375Z"
    }
   },
   "outputs": [],
   "source": [
    "from collections import defaultdict\n",
    "import re\n",
    "variable = \"([a-z][a-zA-Z0-9_]*)\"\n",
    "pattern = re.compile(\"\\\\b\"+variable+\"\\\\s*\\\\*\\\\s*\"+variable+\"\\\\b\")\n",
    "\n",
    "head = []\n",
    "replaced_body = body\n",
    "replace_header = \"\"\n",
    "while True:\n",
    "    var_freqs = defaultdict(int)\n",
    "    for v in pattern.findall(replaced_body):\n",
    "        var_freqs[v] += 1\n",
    "    if len(var_freqs) == 0:\n",
    "        break\n",
    "    m = max(var_freqs.keys(), key=lambda k: var_freqs[k])\n",
    "    count = var_freqs[m]\n",
    "    # print m\n",
    "    if count < 2:\n",
    "        break\n",
    "    v1, v2 = m\n",
    "    name = v1+\"_\"+v2\n",
    "    replaced_body = re.sub(\"\\\\b\"+v1+\"\\\\s*\\\\*\\\\s*\"+v2+\"\\\\b\", name, replaced_body)\n",
    "    replace_header += '    const MatrixXs ' + name+ ' = '+v1+' * '+v2+';\\n'"
   ]
  },
  {
   "cell_type": "code",
   "execution_count": 9,
   "metadata": {
    "execution": {
     "iopub.execute_input": "2020-12-08T11:53:48.411005Z",
     "iopub.status.busy": "2020-12-08T11:53:48.410583Z",
     "iopub.status.idle": "2020-12-08T11:53:48.419097Z",
     "shell.execute_reply": "2020-12-08T11:53:48.416401Z",
     "shell.execute_reply.started": "2020-12-08T11:53:48.410958Z"
    }
   },
   "outputs": [],
   "source": [
    "with open('matscs_formulas.cpp', 'w') as f:\n",
    "    f.write(header + replace_header + replaced_body+footer)"
   ]
  },
  {
   "cell_type": "code",
   "execution_count": null,
   "metadata": {},
   "outputs": [],
   "source": []
  }
 ],
 "metadata": {
  "kernelspec": {
   "display_name": "SageMath 9.1",
   "language": "sage",
   "name": "sagemath"
  },
  "language_info": {
   "codemirror_mode": {
    "name": "ipython",
    "version": 3
   },
   "file_extension": ".py",
   "mimetype": "text/x-python",
   "name": "python",
   "nbconvert_exporter": "python",
   "pygments_lexer": "ipython3",
   "version": "3.7.3"
  }
 },
 "nbformat": 4,
 "nbformat_minor": 4
}
